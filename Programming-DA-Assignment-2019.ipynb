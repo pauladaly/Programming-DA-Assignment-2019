{
 "cells": [
  {
   "cell_type": "markdown",
   "metadata": {},
   "source": [
    "# Programming for Data Analysis 2019\n",
    "Submitted by Paula Daly"
   ]
  },
  {
   "cell_type": "markdown",
   "metadata": {},
   "source": [
    "This Juypter notebook has been created to review the numpy.random package in Python.  This notebook will cover:\n",
    "\n",
    "1. The overall purpose of the numpy.random package.\n",
    "2. The use of the “Simple random data” and “Permutations” functions within the numpy.random package.\n",
    "3. The use and purpose of the follwoing five “Distributions” functions.\n",
    "4. Explaination of the use of seeds in generating pseudorandom numbers."
   ]
  },
  {
   "cell_type": "markdown",
   "metadata": {},
   "source": [
    "# The purpose of the numpy.random package\n",
    "NumPy, which stands for Numerical Python, is a library consisting of multidimensional array objects and a collection of routines for processing those arrays. Using NumPy, mathematical and logical operations on arrays can be performed.\n",
    "\n",
    "Using NumPy, a developer can perform the following operations −\n",
    "\n",
    " - Mathematical and logical operations on arrays.\n",
    "\n",
    " - Fourier transforms and routines for shape manipulation.\n",
    "\n",
    " - Operations related to linear algebra. NumPy has in-built functions for linear algebra and random number generation\n",
    "\n",
    "For this project I am investigating the numpy.random module within the numpy library.  The random module in Numpy package contains many functions for generation of random numbers.  It has teh ability to generate random lists of data, shuffle exiting data and draw samples based on specific distributions."
   ]
  },
  {
   "cell_type": "markdown",
   "metadata": {},
   "source": [
    "# Functions: Simple random data and Permutations"
   ]
  },
  {
   "cell_type": "markdown",
   "metadata": {},
   "source": [
    "# Simple random data\n",
    "Return a sample (or samples) from the “standard normal” distribution. Return random integers from low (inclusive) to high (exclusive). Random integers of type np.int between low and high, inclusive. Return random floats in the half-open interval [0.0, 1.0).\n",
    "\n",
    "I have ran some funtions to show how simple lists of data are generated using numpy.random.  Everytime you run below functions you will get a different set of random numbers"
   ]
  },
  {
   "cell_type": "code",
   "execution_count": 47,
   "metadata": {},
   "outputs": [],
   "source": [
    "# Import Numpy\n",
    "import numpy as np"
   ]
  },
  {
   "cell_type": "code",
   "execution_count": 28,
   "metadata": {},
   "outputs": [
    {
     "name": "stdout",
     "output_type": "stream",
     "text": [
      "[[0.38573763 0.26665388]\n",
      " [0.83351068 0.28259663]]\n"
     ]
    }
   ],
   "source": [
    "# Random numbers between [0,1) of shape 2,2\n",
    "print(np.random.rand(2,2))"
   ]
  },
  {
   "cell_type": "code",
   "execution_count": 29,
   "metadata": {},
   "outputs": [
    {
     "name": "stdout",
     "output_type": "stream",
     "text": [
      "[[-0.02144316  0.73322504]\n",
      " [-0.50296785 -2.27763809]]\n"
     ]
    }
   ],
   "source": [
    "# Normal distribution with mean=0 and variance=1 of shape 2,2\n",
    "print(np.random.randn(2,2))"
   ]
  },
  {
   "cell_type": "code",
   "execution_count": 30,
   "metadata": {},
   "outputs": [
    {
     "name": "stdout",
     "output_type": "stream",
     "text": [
      "[[8 0]\n",
      " [5 3]]\n"
     ]
    }
   ],
   "source": [
    "# Random integers between [0, 10) of shape 2,2\n",
    "print(np.random.randint(0, 10, size=[2,2]))"
   ]
  },
  {
   "cell_type": "code",
   "execution_count": 31,
   "metadata": {},
   "outputs": [
    {
     "name": "stdout",
     "output_type": "stream",
     "text": [
      "0.3829942233680509\n"
     ]
    }
   ],
   "source": [
    "# One random number between [0,1)\n",
    "print(np.random.random())"
   ]
  },
  {
   "cell_type": "code",
   "execution_count": 32,
   "metadata": {},
   "outputs": [
    {
     "name": "stdout",
     "output_type": "stream",
     "text": [
      "[[0.45578193 0.32851571]\n",
      " [0.86043424 0.92175681]]\n"
     ]
    }
   ],
   "source": [
    "# Random numbers between [0,1) of shape 2,2\n",
    "print(np.random.random(size=[2,2]))"
   ]
  },
  {
   "cell_type": "code",
   "execution_count": 33,
   "metadata": {},
   "outputs": [
    {
     "name": "stdout",
     "output_type": "stream",
     "text": [
      "['u' 'i' 'u' 'u' 'e' 'u' 'a' 'i' 'a' 'i']\n"
     ]
    }
   ],
   "source": [
    "# Pick 10 items from a given list, with equal probability\n",
    "print(np.random.choice(['a', 'e', 'i', 'o', 'u'], size=10))  "
   ]
  },
  {
   "cell_type": "code",
   "execution_count": 34,
   "metadata": {},
   "outputs": [
    {
     "name": "stdout",
     "output_type": "stream",
     "text": [
      "['o' 'a' 'o' 'a' 'o' 'o' 'u' 'e' 'o' 'a']\n"
     ]
    }
   ],
   "source": [
    "# Pick 10 items from a given list with a predefined probability 'p'\n",
    "print(np.random.choice(['a', 'e', 'i', 'o', 'u'], size=10, p=[0.3, .1, 0.1, 0.4, 0.1])) "
   ]
  },
  {
   "cell_type": "markdown",
   "metadata": {},
   "source": [
    "# Permutations¶\n",
    "no of pos\n",
    "shuffle(x)\tModify a sequence in-place by shuffling its contents.\n",
    "permutation(x)\tRandomly permute a sequence, or return a permuted range."
   ]
  },
  {
   "cell_type": "markdown",
   "metadata": {},
   "source": [
    "# Distributions\n"
   ]
  },
  {
   "cell_type": "code",
   "execution_count": null,
   "metadata": {},
   "outputs": [],
   "source": [
    "Normal Distribution:\n",
    "    \n",
    "The most widely distribution encountered is the normal distribution also known as the Bell Curve.  \n",
    "A normal distribution is described by just two numbers, the mean and Standard Deviation.  \n",
    "The mean is the average, it’s where the Bell Curve peaks.  \n",
    "The Standard Deviation describes how wide or narrow the curve is.   \n",
    "You use the Greek letter μ (mu) for the mean or expectation of the distribution (and also its median and mode)\n",
    "The Greek letter σ (sigma) is used for the standard deviation. \n",
    "\n",
    "\n",
    "\n",
    "To generate random numbers from a normal distribution you use the normalvariate function - normalvariate(μ, σ) you must pass in both the mean and the standard deviation.\n",
    "For example to generate 20 numbers from a bell curve with a mean of 0 and a standard deviation of 1 you call the normalvariate function and pass in the two parameters.\n",
    "Import random\n",
    "For i in range(20):\n",
    "  Print(random.normalvariate(0, 1))\n",
    "\n",
    "Notice how the numbers are bunched around the mean zero.\n",
    "\n",
    "Here is an example generating 20 numbers of a bell curve with a mean of 0 and a standard deviation of 9.\n",
    "Import random\n",
    "For i in range(20):\n",
    "  Print(random.normalvariate(0, 9))\n",
    "\n",
    "Notice that these numbers are more widely spread out.\n",
    "\n",
    "\n",
    "If you make the standard deviation small the random numbers will be more tightly grouped.\n",
    "Import random\n",
    "For i in range(20):\n",
    "  Print(random.normalvariate(0, 0.2))\n"
   ]
  },
  {
   "cell_type": "code",
   "execution_count": null,
   "metadata": {},
   "outputs": [],
   "source": []
  },
  {
   "cell_type": "code",
   "execution_count": 27,
   "metadata": {},
   "outputs": [
    {
     "name": "stdout",
     "output_type": "stream",
     "text": [
      "-1.2355856731126345\n"
     ]
    }
   ],
   "source": [
    "i = np.random.rand(20)\n",
    "print(random.normalvariate(0, 1))"
   ]
  },
  {
   "cell_type": "code",
   "execution_count": 46,
   "metadata": {},
   "outputs": [
    {
     "ename": "SyntaxError",
     "evalue": "invalid syntax (<ipython-input-46-a6dcf76bfd46>, line 1)",
     "output_type": "error",
     "traceback": [
      "\u001b[1;36m  File \u001b[1;32m\"<ipython-input-46-a6dcf76bfd46>\"\u001b[1;36m, line \u001b[1;32m1\u001b[0m\n\u001b[1;33m    for i in range(20)\u001b[0m\n\u001b[1;37m                      ^\u001b[0m\n\u001b[1;31mSyntaxError\u001b[0m\u001b[1;31m:\u001b[0m invalid syntax\n"
     ]
    }
   ],
   "source": [
    "for i in range(20)\n",
    "  print (random.normalvariate(0,9))"
   ]
  },
  {
   "cell_type": "markdown",
   "metadata": {},
   "source": [
    "# Seed The Random Number Generator\n",
    "The pseudorandom number generator is a mathematical function that generates a sequence of nearly random numbers.\n",
    "\n",
    "It takes a parameter to start off the sequence, called the seed. The function is deterministic, meaning given the same seed, it will produce the same sequence of numbers every time. The choice of seed does not matter.\n",
    "\n",
    "The seed() function will seed the pseudorandom number generator, taking an integer value as an argument, such as 1 or 7. If the seed() function is not called prior to using randomness, the default is to use the current system time in milliseconds from epoch (1970).\n",
    "\n",
    "The example below demonstrates seeding the pseudorandom number generator, generates some random numbers, and shows that reseeding the generator will result in the same sequence of numbers being generated.\n",
    "\n",
    "If you want to repeat the same set of random numbers every time you need to set the seed or random state.  The seed can be any value, the only requirement is that you must set the seed to the same value every time you want to generate the same set of random numbers.\n",
    "\n",
    "Once np.random.RandomState is created all the function of the np.random module become available to the created randomstate object."
   ]
  },
  {
   "cell_type": "code",
   "execution_count": 40,
   "metadata": {},
   "outputs": [],
   "source": [
    "# Create the random state\n",
    "rn = np.random.RandomState(100)"
   ]
  },
  {
   "cell_type": "code",
   "execution_count": 41,
   "metadata": {},
   "outputs": [
    {
     "name": "stdout",
     "output_type": "stream",
     "text": [
      "[[0.54340494 0.27836939]\n",
      " [0.42451759 0.84477613]]\n"
     ]
    }
   ],
   "source": [
    "# Create random numbers between [0,1) of shape 2,2\n",
    "print(rn.rand(2,2))"
   ]
  },
  {
   "cell_type": "code",
   "execution_count": 42,
   "metadata": {},
   "outputs": [],
   "source": [
    "# Set the random seed\n",
    "np.random.seed(100)"
   ]
  },
  {
   "cell_type": "code",
   "execution_count": 43,
   "metadata": {},
   "outputs": [
    {
     "name": "stdout",
     "output_type": "stream",
     "text": [
      "[[0.54340494 0.27836939]\n",
      " [0.42451759 0.84477613]]\n"
     ]
    }
   ],
   "source": [
    "# Create randim numbers between [0,1) of shape 2,2\n",
    "print(np.random.rand(2,2))"
   ]
  }
 ],
 "metadata": {
  "kernelspec": {
   "display_name": "Python 3",
   "language": "python",
   "name": "python3"
  },
  "language_info": {
   "codemirror_mode": {
    "name": "ipython",
    "version": 3
   },
   "file_extension": ".py",
   "mimetype": "text/x-python",
   "name": "python",
   "nbconvert_exporter": "python",
   "pygments_lexer": "ipython3",
   "version": "3.7.1"
  }
 },
 "nbformat": 4,
 "nbformat_minor": 2
}
